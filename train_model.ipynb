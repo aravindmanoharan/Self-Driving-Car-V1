{
 "cells": [
  {
   "cell_type": "code",
   "execution_count": 8,
   "metadata": {},
   "outputs": [],
   "source": [
    "# Import all packages\n",
    "import cv2\n",
    "import time\n",
    "import pickle\n",
    "import pandas as pd\n",
    "import numpy as np\n",
    "import matplotlib.pyplot as plt\n",
    "from sklearn.model_selection import train_test_split\n",
    "from sklearn.utils import shuffle\n",
    "import tensorflow as tf\n",
    "from tensorflow.python.framework import ops\n",
    "\n",
    "train_graph = tf.Graph()"
   ]
  },
  {
   "cell_type": "code",
   "execution_count": 2,
   "metadata": {},
   "outputs": [],
   "source": [
    "DATA_FILE = \"driving_log.csv\"\n",
    "CHECKPOINT = \"./train_model.ckpt\""
   ]
  },
  {
   "cell_type": "code",
   "execution_count": 3,
   "metadata": {},
   "outputs": [
    {
     "data": {
      "text/html": [
       "<div>\n",
       "<style scoped>\n",
       "    .dataframe tbody tr th:only-of-type {\n",
       "        vertical-align: middle;\n",
       "    }\n",
       "\n",
       "    .dataframe tbody tr th {\n",
       "        vertical-align: top;\n",
       "    }\n",
       "\n",
       "    .dataframe thead th {\n",
       "        text-align: right;\n",
       "    }\n",
       "</style>\n",
       "<table border=\"1\" class=\"dataframe\">\n",
       "  <thead>\n",
       "    <tr style=\"text-align: right;\">\n",
       "      <th></th>\n",
       "      <th>center</th>\n",
       "      <th>left</th>\n",
       "      <th>right</th>\n",
       "      <th>steering</th>\n",
       "      <th>throttle</th>\n",
       "      <th>brake</th>\n",
       "      <th>speed</th>\n",
       "    </tr>\n",
       "  </thead>\n",
       "  <tbody>\n",
       "    <tr>\n",
       "      <th>0</th>\n",
       "      <td>IMG/center_2016_12_01_13_30_48_287.jpg</td>\n",
       "      <td>IMG/left_2016_12_01_13_30_48_287.jpg</td>\n",
       "      <td>IMG/right_2016_12_01_13_30_48_287.jpg</td>\n",
       "      <td>0.0</td>\n",
       "      <td>0.0</td>\n",
       "      <td>0.0</td>\n",
       "      <td>22.148290</td>\n",
       "    </tr>\n",
       "    <tr>\n",
       "      <th>1</th>\n",
       "      <td>IMG/center_2016_12_01_13_30_48_404.jpg</td>\n",
       "      <td>IMG/left_2016_12_01_13_30_48_404.jpg</td>\n",
       "      <td>IMG/right_2016_12_01_13_30_48_404.jpg</td>\n",
       "      <td>0.0</td>\n",
       "      <td>0.0</td>\n",
       "      <td>0.0</td>\n",
       "      <td>21.879630</td>\n",
       "    </tr>\n",
       "    <tr>\n",
       "      <th>2</th>\n",
       "      <td>IMG/center_2016_12_01_13_31_12_937.jpg</td>\n",
       "      <td>IMG/left_2016_12_01_13_31_12_937.jpg</td>\n",
       "      <td>IMG/right_2016_12_01_13_31_12_937.jpg</td>\n",
       "      <td>0.0</td>\n",
       "      <td>0.0</td>\n",
       "      <td>0.0</td>\n",
       "      <td>1.453011</td>\n",
       "    </tr>\n",
       "    <tr>\n",
       "      <th>3</th>\n",
       "      <td>IMG/center_2016_12_01_13_31_13_037.jpg</td>\n",
       "      <td>IMG/left_2016_12_01_13_31_13_037.jpg</td>\n",
       "      <td>IMG/right_2016_12_01_13_31_13_037.jpg</td>\n",
       "      <td>0.0</td>\n",
       "      <td>0.0</td>\n",
       "      <td>0.0</td>\n",
       "      <td>1.438419</td>\n",
       "    </tr>\n",
       "    <tr>\n",
       "      <th>4</th>\n",
       "      <td>IMG/center_2016_12_01_13_31_13_177.jpg</td>\n",
       "      <td>IMG/left_2016_12_01_13_31_13_177.jpg</td>\n",
       "      <td>IMG/right_2016_12_01_13_31_13_177.jpg</td>\n",
       "      <td>0.0</td>\n",
       "      <td>0.0</td>\n",
       "      <td>0.0</td>\n",
       "      <td>1.418236</td>\n",
       "    </tr>\n",
       "  </tbody>\n",
       "</table>\n",
       "</div>"
      ],
      "text/plain": [
       "                                   center  \\\n",
       "0  IMG/center_2016_12_01_13_30_48_287.jpg   \n",
       "1  IMG/center_2016_12_01_13_30_48_404.jpg   \n",
       "2  IMG/center_2016_12_01_13_31_12_937.jpg   \n",
       "3  IMG/center_2016_12_01_13_31_13_037.jpg   \n",
       "4  IMG/center_2016_12_01_13_31_13_177.jpg   \n",
       "\n",
       "                                    left  \\\n",
       "0   IMG/left_2016_12_01_13_30_48_287.jpg   \n",
       "1   IMG/left_2016_12_01_13_30_48_404.jpg   \n",
       "2   IMG/left_2016_12_01_13_31_12_937.jpg   \n",
       "3   IMG/left_2016_12_01_13_31_13_037.jpg   \n",
       "4   IMG/left_2016_12_01_13_31_13_177.jpg   \n",
       "\n",
       "                                    right  steering  throttle  brake  \\\n",
       "0   IMG/right_2016_12_01_13_30_48_287.jpg       0.0       0.0    0.0   \n",
       "1   IMG/right_2016_12_01_13_30_48_404.jpg       0.0       0.0    0.0   \n",
       "2   IMG/right_2016_12_01_13_31_12_937.jpg       0.0       0.0    0.0   \n",
       "3   IMG/right_2016_12_01_13_31_13_037.jpg       0.0       0.0    0.0   \n",
       "4   IMG/right_2016_12_01_13_31_13_177.jpg       0.0       0.0    0.0   \n",
       "\n",
       "       speed  \n",
       "0  22.148290  \n",
       "1  21.879630  \n",
       "2   1.453011  \n",
       "3   1.438419  \n",
       "4   1.418236  "
      ]
     },
     "execution_count": 3,
     "metadata": {},
     "output_type": "execute_result"
    }
   ],
   "source": [
    "# Load the driving_log.csv file to look into data\n",
    "log = pd.read_csv(DATA_FILE)\n",
    "\n",
    "log.head()"
   ]
  },
  {
   "cell_type": "code",
   "execution_count": 4,
   "metadata": {},
   "outputs": [],
   "source": [
    "images = []\n",
    "labels = []\n",
    "alpha = 0.2"
   ]
  },
  {
   "cell_type": "code",
   "execution_count": 5,
   "metadata": {},
   "outputs": [
    {
     "name": "stdout",
     "output_type": "stream",
     "text": [
      "24108 images\n",
      "24108 labels\n"
     ]
    }
   ],
   "source": [
    "# Iterate througth the log file to extract the information\n",
    "for index, row in log.iterrows():\n",
    "    \n",
    "    # Load the center image and append the steering value\n",
    "    image_file = row['center']\n",
    "    image = cv2.imread(image_file.strip())\n",
    "    resized_image = cv2.resize((cv2.cvtColor(image, cv2.COLOR_RGB2HSV))[:, :, 1], (40, 40))\n",
    "    images.append(resized_image)\n",
    "    labels.append(row['steering'])\n",
    "    \n",
    "    # Load the left image and append the steering value + alpha\n",
    "    image_file = row['left']\n",
    "    image = cv2.imread(image_file.strip())\n",
    "    resized_image = cv2.resize((cv2.cvtColor(image, cv2.COLOR_RGB2HSV))[:, :, 1], (40, 40))\n",
    "    images.append(resized_image)\n",
    "    labels.append(row['steering'] + alpha)\n",
    "    \n",
    "    # Load the left image and append the steering value - alpha\n",
    "    image_file = row['right']\n",
    "    image = cv2.imread(image_file.strip())\n",
    "    resized_image = cv2.resize((cv2.cvtColor(image, cv2.COLOR_RGB2HSV))[:, :, 1], (40, 40))\n",
    "    images.append(resized_image)\n",
    "    labels.append(row['steering'] - alpha)\n",
    "    \n",
    "print(str(len(images)) + \" images\")\n",
    "print(str(len(labels)) + \" labels\")"
   ]
  },
  {
   "cell_type": "code",
   "execution_count": 6,
   "metadata": {},
   "outputs": [
    {
     "name": "stdout",
     "output_type": "stream",
     "text": [
      "Images shape: (24108, 40, 40)\n",
      "Labels shape: (24108,)\n"
     ]
    }
   ],
   "source": [
    "# Convert the images and labels into numpy array\n",
    "images = np.array(images).astype('float32') / 255.0\n",
    "labels = np.array(labels).astype('float32')\n",
    "\n",
    "print(\"Images shape: \" + str(images.shape))\n",
    "print(\"Labels shape: \" + str(labels.shape))"
   ]
  },
  {
   "cell_type": "code",
   "execution_count": 10,
   "metadata": {},
   "outputs": [
    {
     "name": "stdout",
     "output_type": "stream",
     "text": [
      "After augmenting...\n",
      "Images shape: (48216, 40, 40)\n",
      "Labels shape: (48216,)\n"
     ]
    }
   ],
   "source": [
    "# Augment the images by mirroring all the images.\n",
    "images = np.append(images, images[:, :, ::-1], axis=0)\n",
    "labels = np.append(labels, -labels, axis=0)\n",
    "\n",
    "print(\"After augmenting...\")\n",
    "print(\"Images shape: \" + str(images.shape))\n",
    "print(\"Labels shape: \" + str(labels.shape))"
   ]
  },
  {
   "cell_type": "code",
   "execution_count": 11,
   "metadata": {},
   "outputs": [
    {
     "name": "stdout",
     "output_type": "stream",
     "text": [
      "Number of Training examples: 43394\n",
      "Number of Testing examples: 4822\n",
      "train_images shape: (43394, 40, 40, 1)\n",
      "test_images shape: (4822, 40, 40, 1)\n",
      "train_labels shape: (43394, 1)\n",
      "test_labels shape: (4822, 1)\n"
     ]
    }
   ],
   "source": [
    "# Shuffle the train images and split into trian and test data\n",
    "images, labels = shuffle(images, labels)\n",
    "train_images, test_images, train_labels, test_labels = train_test_split(images, labels, random_state=0, test_size=0.1)\n",
    "print(\"Number of Training examples: \" + str(train_images.shape[0]))\n",
    "print(\"Number of Testing examples: \" + str(test_images.shape[0]))\n",
    "\n",
    "# Reshape the images along with the number of channels\n",
    "train_images = train_images.reshape(train_images.shape[0], 40, 40, 1)\n",
    "test_images = test_images.reshape(test_images.shape[0], 40, 40, 1)\n",
    "print(\"train_images shape: \" + str(train_images.shape))\n",
    "print(\"test_images shape: \" + str(test_images.shape))\n",
    "\n",
    "# Reshape the labels too\n",
    "train_labels = train_labels.reshape(train_labels.shape[0], 1)\n",
    "test_labels = test_labels.reshape(test_labels.shape[0], 1)\n",
    "print(\"train_labels shape: \" + str(train_labels.shape))\n",
    "print(\"test_labels shape: \" + str(test_labels.shape))"
   ]
  },
  {
   "cell_type": "code",
   "execution_count": 12,
   "metadata": {},
   "outputs": [],
   "source": [
    "m = train_images.shape[0] # Number of training examples\n",
    "n_H = train_images.shape[1] # Images' height\n",
    "n_W = train_images.shape[2] # Images' width\n",
    "n_C = train_images.shape[3] # number of channels\n",
    "n_cls = train_labels.shape[1] # number of classes\n",
    "\n",
    "# Create placeholders for the train data and label\n",
    "with train_graph.as_default():\n",
    "    X = tf.placeholder(tf.float32, [None, n_H, n_W, n_C], name = 'input')\n",
    "    Y = tf.placeholder(tf.float32, [None, n_cls], name = 'output')"
   ]
  },
  {
   "cell_type": "code",
   "execution_count": 13,
   "metadata": {},
   "outputs": [],
   "source": [
    "# Initialize the weights for the convolution layers\n",
    "# shape = [filter_size, filter_size, num_input_channels, num_filters]\n",
    "with train_graph.as_default():\n",
    "    W1 = tf.get_variable(\"W1\", [3, 3, 1, 32], initializer = tf.contrib.layers.xavier_initializer(seed=0))\n",
    "    W2 = tf.get_variable(\"W2\", [3, 3, 32, 64], initializer = tf.contrib.layers.xavier_initializer(seed=0))\n",
    "    W3 = tf.get_variable(\"W3\", [3, 3, 64, 128], initializer = tf.contrib.layers.xavier_initializer(seed=0))"
   ]
  },
  {
   "cell_type": "code",
   "execution_count": 14,
   "metadata": {},
   "outputs": [
    {
     "name": "stdout",
     "output_type": "stream",
     "text": [
      "Tensor(\"fc3/BiasAdd:0\", shape=(?, 1), dtype=float32)\n"
     ]
    }
   ],
   "source": [
    "# Create convolutional neural network\n",
    "with train_graph.as_default():\n",
    "    # Layer1 - Convolutional\n",
    "    conv_layer1 = tf.nn.conv2d(X, W1, strides=[1, 1, 1, 1], padding='SAME', name = 'conv1')\n",
    "    relu_layer1 = tf.nn.relu(conv_layer1, name = 'relu1')\n",
    "    max_pool_layer1 = tf.nn.max_pool(relu_layer1, ksize = [1, 2, 2, 1], strides = [1, 1, 1, 1], padding='VALID', name = 'pool1')\n",
    "\n",
    "    # Layer2 - Convolutional\n",
    "    conv_layer2 = tf.nn.conv2d(max_pool_layer1, W2, strides=[1, 1, 1, 1], padding='SAME', name = 'conv2')\n",
    "    relu_layer2 = tf.nn.relu(conv_layer2, name = 'relu2')\n",
    "    max_pool_layer2 = tf.nn.max_pool(relu_layer2, ksize = [1, 2, 2, 1], strides = [1, 1, 1, 1], padding='VALID', name = 'pool2')\n",
    "    \n",
    "    # Layer3 - Convolutional\n",
    "    conv_layer3 = tf.nn.conv2d(max_pool_layer2, W3, strides=[1, 1, 1, 1], padding='SAME', name = 'conv3')\n",
    "    relu_layer3 = tf.nn.relu(conv_layer3, name = 'relu3')\n",
    "    max_pool_layer3 = tf.nn.max_pool(relu_layer3, ksize = [1, 2, 2, 1], strides = [1, 1, 1, 1], padding='VALID', name = 'pool3')\n",
    "\n",
    "    # Layer4 - Fully_Connected (Don't forget to flatten the previous layer and then apply dropout)\n",
    "    flatten_layer4 = tf.contrib.layers.flatten(max_pool_layer3)\n",
    "    dropout4 = tf.nn.dropout(flatten_layer4, 0.5, name = 'dropout1')\n",
    "    fc_layer4 = tf.contrib.layers.fully_connected(dropout4, 128, activation_fn=tf.nn.relu, scope = 'fc1')\n",
    "    \n",
    "    # Layer5 - Fully_Connected\n",
    "    fc_layer5 = tf.contrib.layers.fully_connected(fc_layer4, 64, activation_fn=tf.nn.relu, scope = 'fc2')\n",
    "\n",
    "    # Layer6 - Fully_Connected\n",
    "    fc_layer6 = tf.contrib.layers.fully_connected(fc_layer5, n_cls, activation_fn=None, scope = 'fc3')\n",
    "    print(fc_layer6)"
   ]
  },
  {
   "cell_type": "code",
   "execution_count": 15,
   "metadata": {},
   "outputs": [],
   "source": [
    "# Use mean square error cost function\n",
    "with train_graph.as_default():\n",
    "    # Use mean squared error as the cost function\n",
    "    cost = tf.losses.mean_squared_error(labels = Y, predictions = fc_layer6)\n",
    "\n",
    "    # Use adam optimizer\n",
    "    optimizer = tf.train.AdamOptimizer(learning_rate=0.0001).minimize(cost)"
   ]
  },
  {
   "cell_type": "code",
   "execution_count": 16,
   "metadata": {},
   "outputs": [],
   "source": [
    "# Funcion: To pick random minibatches to train the model\n",
    "def random_mini_batches(train, labels, batch_size, seed):\n",
    "    # Always change the seed so that we randomize in different order\n",
    "    np.random.seed(seed)\n",
    "    # Make sure we shuffle both the train data and the label in the same order\n",
    "    p = np.random.permutation(len(train))\n",
    "    train = train[p]\n",
    "    labels = labels[p]\n",
    "    train_batches = []\n",
    "    label_batches = []\n",
    "    # Dividing the train data into minibatches\n",
    "    for batch_i in range(0, len(train)//batch_size):\n",
    "        start_i = batch_i * batch_size\n",
    "        train_batch = train[start_i:start_i + batch_size]\n",
    "        label_batch = labels[start_i:start_i + batch_size]\n",
    "        train_batches.append(train_batch)\n",
    "        label_batches.append(label_batch)\n",
    "            \n",
    "    return train_batches, label_batches "
   ]
  },
  {
   "cell_type": "code",
   "execution_count": 18,
   "metadata": {},
   "outputs": [
    {
     "name": "stdout",
     "output_type": "stream",
     "text": [
      "Epoch 0 completed : Time usage 9 minutes\n",
      "\t- Cost after epoch 0: 0.012387\n",
      "Epoch 1 completed : Time usage 9 minutes\n",
      "\t- Cost after epoch 1: 0.009203\n",
      "Epoch 2 completed : Time usage 9 minutes\n",
      "\t- Cost after epoch 2: 0.008529\n",
      "Epoch 3 completed : Time usage 9 minutes\n",
      "\t- Cost after epoch 3: 0.008020\n",
      "Epoch 4 completed : Time usage 9 minutes\n",
      "\t- Cost after epoch 4: 0.007548\n"
     ]
    },
    {
     "data": {
      "image/png": "[encoded data removed]",
      "text/plain": [
       "<Figure size 432x288 with 1 Axes>"
      ]
     },
     "metadata": {},
     "output_type": "display_data"
    },
    {
     "name": "stdout",
     "output_type": "stream",
     "text": [
      "Test MSE: 0.0082\n"
     ]
    }
   ],
   "source": [
    "ops.reset_default_graph()\n",
    "tf.set_random_seed(1)\n",
    "\n",
    "# Initialize all the hyperparameters\n",
    "seed = 3\n",
    "num_epochs = 5\n",
    "minibatch_size = 64\n",
    "costs = [] \n",
    "\n",
    "# Training the model\n",
    "with tf.Session(graph=train_graph) as sess:\n",
    "    # Initialize all variables\n",
    "    sess.run(tf.global_variables_initializer())\n",
    "    \n",
    "    # If we want to continue training a previous session\n",
    "    # loader = tf.train.import_meta_graph(\"./\" + CHECKPOINT + '.meta')\n",
    "    # loader.restore(sess, CHECKPOINT)\n",
    "    \n",
    "    # Loop over number of epochs\n",
    "    for epoch in range(num_epochs):\n",
    "        \n",
    "        start_time = time.time()\n",
    "        minibatch_cost = 0\n",
    "        num_minibatches = int(m / minibatch_size)\n",
    "        seed = seed + 1\n",
    "        # Calling the random_mini_batches function to get the batches\n",
    "        train_batches, label_batches = random_mini_batches(train_images, train_labels, minibatch_size, seed)\n",
    "        \n",
    "        # Now train the model for each of that batches and calculate the minibatch cost\n",
    "        for batch_i in range(num_minibatches):\n",
    "            \n",
    "            # Choose the minibatches\n",
    "            minibatch_X = train_batches[batch_i]\n",
    "            minibatch_Y = label_batches[batch_i]\n",
    "            \n",
    "            _ , temp_cost = sess.run([optimizer, cost], feed_dict={X:minibatch_X, Y:minibatch_Y})\n",
    "            \n",
    "            minibatch_cost += temp_cost / num_minibatches\n",
    "            \n",
    "        # Print the cost for every epoch\n",
    "        print(\"Epoch \" + str(epoch) + \" completed : Time usage \" + str(int((time.time()-start_time)/60)) + \" minutes\")\n",
    "        print(\"\\t- Cost after epoch %i: %f\" % (epoch, minibatch_cost))\n",
    "        \n",
    "        # Don't forget to save the model\n",
    "        saver = tf.train.Saver() \n",
    "        saver.save(sess, CHECKPOINT)\n",
    "        costs.append(minibatch_cost)\n",
    "            \n",
    "            \n",
    "    # plot the cost\n",
    "    plt.plot(np.squeeze(costs))\n",
    "    plt.ylabel('cost')\n",
    "    plt.xlabel('iterations (per tens)')\n",
    "    plt.show()\n",
    "    \n",
    "    # Calculate MSE for the testing data\n",
    "    test_pred = sess.run(fc_layer6, feed_dict={X: test_images})\n",
    "    test_mse = tf.reduce_mean(tf.square(test_pred - test_labels))\n",
    "    print(\"Test MSE: %.4f\" % sess.run(test_mse))"
   ]
  },
  {
   "cell_type": "code",
   "execution_count": null,
   "metadata": {},
   "outputs": [],
   "source": []
  }
 ],
 "metadata": {
  "kernelspec": {
   "display_name": "Python 3",
   "language": "python",
   "name": "python3"
  },
  "language_info": {
   "codemirror_mode": {
    "name": "ipython",
    "version": 3
   },
   "file_extension": ".py",
   "mimetype": "text/x-python",
   "name": "python",
   "nbconvert_exporter": "python",
   "pygments_lexer": "ipython3",
   "version": "3.6.4"
  }
 },
 "nbformat": 4,
 "nbformat_minor": 2
}
